{
 "cells": [
  {
   "cell_type": "code",
   "execution_count": 1,
   "id": "77900a94",
   "metadata": {
    "_cell_guid": "b1076dfc-b9ad-4769-8c92-a6c4dae69d19",
    "_uuid": "8f2839f25d086af736a60e9eeb907d3b93b6e0e5",
    "execution": {
     "iopub.execute_input": "2023-12-21T03:57:43.821639Z",
     "iopub.status.busy": "2023-12-21T03:57:43.821204Z",
     "iopub.status.idle": "2023-12-21T03:57:53.428218Z",
     "shell.execute_reply": "2023-12-21T03:57:53.427048Z"
    },
    "papermill": {
     "duration": 9.615733,
     "end_time": "2023-12-21T03:57:53.430763",
     "exception": false,
     "start_time": "2023-12-21T03:57:43.815030",
     "status": "completed"
    },
    "tags": []
   },
   "outputs": [
    {
     "name": "stderr",
     "output_type": "stream",
     "text": [
      "/opt/conda/lib/python3.10/site-packages/scipy/__init__.py:146: UserWarning: A NumPy version >=1.16.5 and <1.23.0 is required for this version of SciPy (detected version 1.23.5\n",
      "  warnings.warn(f\"A NumPy version >={np_minversion} and <{np_maxversion}\"\n",
      "/opt/conda/lib/python3.10/site-packages/tensorflow_io/python/ops/__init__.py:98: UserWarning: unable to load libtensorflow_io_plugins.so: unable to open file: libtensorflow_io_plugins.so, from paths: ['/opt/conda/lib/python3.10/site-packages/tensorflow_io/python/ops/libtensorflow_io_plugins.so']\n",
      "caused by: ['/opt/conda/lib/python3.10/site-packages/tensorflow_io/python/ops/libtensorflow_io_plugins.so: undefined symbol: _ZN3tsl6StatusC1EN10tensorflow5error4CodeESt17basic_string_viewIcSt11char_traitsIcEENS_14SourceLocationE']\n",
      "  warnings.warn(f\"unable to load libtensorflow_io_plugins.so: {e}\")\n",
      "/opt/conda/lib/python3.10/site-packages/tensorflow_io/python/ops/__init__.py:104: UserWarning: file system plugins are not loaded: unable to open file: libtensorflow_io.so, from paths: ['/opt/conda/lib/python3.10/site-packages/tensorflow_io/python/ops/libtensorflow_io.so']\n",
      "caused by: ['/opt/conda/lib/python3.10/site-packages/tensorflow_io/python/ops/libtensorflow_io.so: undefined symbol: _ZTVN10tensorflow13GcsFileSystemE']\n",
      "  warnings.warn(f\"file system plugins are not loaded: {e}\")\n"
     ]
    }
   ],
   "source": [
    "import os\n",
    "import numpy as np\n",
    "import pandas as pd\n",
    "\n",
    "from tqdm import tqdm\n",
    "\n",
    "from PIL import Image\n",
    "import matplotlib.pyplot as plt\n",
    "from sklearn.metrics import confusion_matrix\n",
    "\n",
    "import seaborn as sns\n",
    "from tensorflow.keras.models import load_model\n",
    "from sklearn.metrics import classification_report\n",
    "from sklearn import metrics\n",
    "from sklearn.model_selection import train_test_split\n",
    "import tensorflow as tf\n",
    "from tensorflow.keras import layers, models, applications\n",
    "from tensorflow.keras.utils import to_categorical\n",
    "from sklearn.preprocessing import LabelBinarizer\n",
    "\n",
    "from sklearn.metrics import confusion_matrix, classification_report, roc_auc_score, roc_curve, auc\n",
    "from tensorflow.keras.applications import VGG16\n",
    "from tensorflow.keras import layers, models\n",
    "from sklearn.metrics import precision_recall_fscore_support\n",
    "import cv2 \n"
   ]
  },
  {
   "cell_type": "code",
   "execution_count": null,
   "id": "1f31a7f4",
   "metadata": {
    "papermill": {
     "duration": 0.004149,
     "end_time": "2023-12-21T03:57:53.440110",
     "exception": false,
     "start_time": "2023-12-21T03:57:53.435961",
     "status": "completed"
    },
    "tags": []
   },
   "outputs": [],
   "source": []
  },
  {
   "cell_type": "code",
   "execution_count": 2,
   "id": "2f852304",
   "metadata": {
    "execution": {
     "iopub.execute_input": "2023-12-21T03:57:53.450490Z",
     "iopub.status.busy": "2023-12-21T03:57:53.449796Z",
     "iopub.status.idle": "2023-12-21T03:57:53.458367Z",
     "shell.execute_reply": "2023-12-21T03:57:53.457627Z"
    },
    "papermill": {
     "duration": 0.016092,
     "end_time": "2023-12-21T03:57:53.460102",
     "exception": false,
     "start_time": "2023-12-21T03:57:53.444010",
     "status": "completed"
    },
    "tags": []
   },
   "outputs": [],
   "source": [
    "\n",
    "# Define data folder and tumor types\n",
    "data_folder = \"/kaggle/input/brain-tumor\"\n",
    "tumor = [\"glioma\", \"meningioma\", \"pituitary\"]\n",
    "\n",
    "# Define functions for image preprocessing\n",
    "def preprocess_image(img_path, resize_dim=(224, 224), convert_to_gray=False):\n",
    "    img = cv2.imread(img_path, cv2.IMREAD_COLOR)\n",
    "    if img is not None:\n",
    "        if convert_to_gray:\n",
    "            img = cv2.cvtColor(img, cv2.COLOR_BGR2GRAY)\n",
    "        if resize_dim:\n",
    "            img = cv2.resize(img, resize_dim)      \n",
    "    return img\n",
    "def load_images_from_folder(folder, resize_dim=(224, 224), convert_to_gray=False):\n",
    "    images = []\n",
    "    labels = []\n",
    "    for tumor_type_idx, tumor_type in enumerate(tumor, start=1):\n",
    "        tumor_folder = os.path.join(folder, str(tumor_type_idx))\n",
    "        for filename in tqdm(os.listdir(tumor_folder), desc=f\"Loading {tumor_type} images\"):\n",
    "            img_path = os.path.join(tumor_folder, filename)\n",
    "            img = preprocess_image(img_path, resize_dim=resize_dim, convert_to_gray=convert_to_gray)\n",
    "            if img is not None:\n",
    "                images.append(img)\n",
    "                labels.append(tumor_type)\n",
    "    return images, labels"
   ]
  },
  {
   "cell_type": "code",
   "execution_count": 3,
   "id": "8bd79050",
   "metadata": {
    "execution": {
     "iopub.execute_input": "2023-12-21T03:57:53.469558Z",
     "iopub.status.busy": "2023-12-21T03:57:53.469259Z",
     "iopub.status.idle": "2023-12-21T03:58:46.272060Z",
     "shell.execute_reply": "2023-12-21T03:58:46.270923Z"
    },
    "papermill": {
     "duration": 52.810538,
     "end_time": "2023-12-21T03:58:46.274862",
     "exception": false,
     "start_time": "2023-12-21T03:57:53.464324",
     "status": "completed"
    },
    "tags": []
   },
   "outputs": [
    {
     "name": "stderr",
     "output_type": "stream",
     "text": [
      "Loading glioma images: 100%|██████████| 708/708 [00:11<00:00, 61.54it/s]\n",
      "Loading meningioma images: 100%|██████████| 1426/1426 [00:22<00:00, 62.24it/s]\n",
      "Loading pituitary images: 100%|██████████| 930/930 [00:17<00:00, 53.52it/s]\n"
     ]
    }
   ],
   "source": [
    "# Load and preprocess images\n",
    "images, labels = load_images_from_folder(data_folder, resize_dim=(224, 224), convert_to_gray=True)\n",
    "\n",
    "# Convert images to RGB if they are in grayscale\n",
    "rgb_img = [cv2.cvtColor(img, cv2.COLOR_GRAY2RGB) if len(img.shape) == 2 else img for img in images]\n",
    "\n",
    "# Convert lists to NumPy arrays\n",
    "images_array = np.array(rgb_img)\n",
    "labels_array = np.array(labels)"
   ]
  },
  {
   "cell_type": "code",
   "execution_count": 4,
   "id": "4bfec13e",
   "metadata": {
    "execution": {
     "iopub.execute_input": "2023-12-21T03:58:46.336027Z",
     "iopub.status.busy": "2023-12-21T03:58:46.335613Z",
     "iopub.status.idle": "2023-12-21T03:58:46.499982Z",
     "shell.execute_reply": "2023-12-21T03:58:46.498764Z"
    },
    "papermill": {
     "duration": 0.19745,
     "end_time": "2023-12-21T03:58:46.502200",
     "exception": false,
     "start_time": "2023-12-21T03:58:46.304750",
     "status": "completed"
    },
    "tags": []
   },
   "outputs": [
    {
     "data": {
      "image/png": "[encoded data removed]",
      "text/plain": [
       "<Figure size 800x800 with 1 Axes>"
      ]
     },
     "metadata": {},
     "output_type": "display_data"
    }
   ],
   "source": [
    "unique_labels, counts = np.unique(labels_array, return_counts=True)\n",
    "\n",
    "# Create a donut plot\n",
    "plt.figure(figsize=(8, 8))\n",
    "plt.pie(counts, labels=unique_labels, autopct='%1.1f%%', startangle=90, colors=plt.cm.Set3.colors)\n",
    "centre_circle = plt.Circle((0,0),0.70,fc='white')\n",
    "fig = plt.gcf()\n",
    "fig.gca().add_artist(centre_circle)\n",
    "\n",
    "plt.title('Distribution of Tumor Types')\n",
    "\n",
    "plt.show()"
   ]
  },
  {
   "cell_type": "code",
   "execution_count": 5,
   "id": "afe28f2e",
   "metadata": {
    "execution": {
     "iopub.execute_input": "2023-12-21T03:58:46.575904Z",
     "iopub.status.busy": "2023-12-21T03:58:46.575535Z",
     "iopub.status.idle": "2023-12-21T03:59:16.923079Z",
     "shell.execute_reply": "2023-12-21T03:59:16.922027Z"
    },
    "papermill": {
     "duration": 30.383246,
     "end_time": "2023-12-21T03:59:16.925244",
     "exception": false,
     "start_time": "2023-12-21T03:58:46.541998",
     "status": "completed"
    },
    "tags": []
   },
   "outputs": [
    {
     "name": "stderr",
     "output_type": "stream",
     "text": [
      "Loading glioma images: 100%|██████████| 708/708 [00:06<00:00, 103.33it/s]\n",
      "Loading meningioma images: 100%|██████████| 1426/1426 [00:13<00:00, 103.35it/s]\n",
      "Loading pituitary images: 100%|██████████| 930/930 [00:09<00:00, 96.09it/s]\n"
     ]
    }
   ],
   "source": [
    "images, labels = load_images_from_folder(data_folder)"
   ]
  },
  {
   "cell_type": "code",
   "execution_count": null,
   "id": "888d354c",
   "metadata": {
    "papermill": {
     "duration": 0.046847,
     "end_time": "2023-12-21T03:59:17.018142",
     "exception": false,
     "start_time": "2023-12-21T03:59:16.971295",
     "status": "completed"
    },
    "tags": []
   },
   "outputs": [],
   "source": []
  },
  {
   "cell_type": "code",
   "execution_count": null,
   "id": "9c77a10d",
   "metadata": {
    "papermill": {
     "duration": 0.045641,
     "end_time": "2023-12-21T03:59:17.110644",
     "exception": false,
     "start_time": "2023-12-21T03:59:17.065003",
     "status": "completed"
    },
    "tags": []
   },
   "outputs": [],
   "source": []
  },
  {
   "cell_type": "code",
   "execution_count": 6,
   "id": "c40def28",
   "metadata": {
    "execution": {
     "iopub.execute_input": "2023-12-21T03:59:17.203950Z",
     "iopub.status.busy": "2023-12-21T03:59:17.203558Z",
     "iopub.status.idle": "2023-12-21T03:59:17.214174Z",
     "shell.execute_reply": "2023-12-21T03:59:17.213483Z"
    },
    "papermill": {
     "duration": 0.059586,
     "end_time": "2023-12-21T03:59:17.216007",
     "exception": false,
     "start_time": "2023-12-21T03:59:17.156421",
     "status": "completed"
    },
    "tags": []
   },
   "outputs": [],
   "source": [
    "#Split Dataset into Training and Testing Sets\n",
    "train_images, test_images, train_labels, test_labels = train_test_split(rgb_img, labels, test_size=0.2, random_state=42, stratify=labels)"
   ]
  },
  {
   "cell_type": "code",
   "execution_count": 7,
   "id": "60a957e3",
   "metadata": {
    "execution": {
     "iopub.execute_input": "2023-12-21T03:59:17.310308Z",
     "iopub.status.busy": "2023-12-21T03:59:17.309235Z",
     "iopub.status.idle": "2023-12-21T03:59:18.528597Z",
     "shell.execute_reply": "2023-12-21T03:59:18.527864Z"
    },
    "papermill": {
     "duration": 1.268549,
     "end_time": "2023-12-21T03:59:18.531113",
     "exception": false,
     "start_time": "2023-12-21T03:59:17.262564",
     "status": "completed"
    },
    "tags": []
   },
   "outputs": [
    {
     "name": "stdout",
     "output_type": "stream",
     "text": [
      "Downloading data from https://storage.googleapis.com/tensorflow/keras-applications/vgg16/vgg16_weights_tf_dim_ordering_tf_kernels_notop.h5\n",
      "58889256/58889256 [==============================] - 0s 0us/step\n"
     ]
    }
   ],
   "source": [
    "\n",
    "# Load the VGG16 model\n",
    "def create_vgg16_model(input_shape=(224, 224, 3), num_classes=len(tumor)):\n",
    "    base_model = VGG16(weights='imagenet', include_top=False, input_shape=input_shape)\n",
    "\n",
    "    # Freeze the base model's layers\n",
    "    for layer in base_model.layers:\n",
    "        layer.trainable = False\n",
    "\n",
    "    # Create the top layers for classification\n",
    "    model = models.Sequential([\n",
    "        base_model,\n",
    "        layers.Flatten(),\n",
    "        layers.Dense(256, activation='relu'),\n",
    "        layers.Dropout(0.5),\n",
    "        layers.Dense(num_classes, activation='softmax')\n",
    "    ])\n",
    "\n",
    "    return model\n",
    "\n",
    "# Create and compile the model\n",
    "model = create_vgg16_model()\n",
    "model.compile(optimizer='adam', loss='categorical_crossentropy', metrics=['accuracy'])\n"
   ]
  },
  {
   "cell_type": "code",
   "execution_count": 8,
   "id": "4b07bf3d",
   "metadata": {
    "execution": {
     "iopub.execute_input": "2023-12-21T03:59:18.625459Z",
     "iopub.status.busy": "2023-12-21T03:59:18.624891Z",
     "iopub.status.idle": "2023-12-21T03:59:18.641093Z",
     "shell.execute_reply": "2023-12-21T03:59:18.639580Z"
    },
    "papermill": {
     "duration": 0.066368,
     "end_time": "2023-12-21T03:59:18.643884",
     "exception": false,
     "start_time": "2023-12-21T03:59:18.577516",
     "status": "completed"
    },
    "tags": []
   },
   "outputs": [],
   "source": [
    "#Convert labels to one-hot encoded vectors\n",
    "label_binarizer = LabelBinarizer()\n",
    "train_labels_one_hot = label_binarizer.fit_transform(train_labels)\n",
    "test_labels_one_hot = label_binarizer.transform(test_labels)"
   ]
  },
  {
   "cell_type": "code",
   "execution_count": null,
   "id": "1c9875fc",
   "metadata": {
    "papermill": {
     "duration": 0.046794,
     "end_time": "2023-12-21T03:59:18.738125",
     "exception": false,
     "start_time": "2023-12-21T03:59:18.691331",
     "status": "completed"
    },
    "tags": []
   },
   "outputs": [],
   "source": []
  },
  {
   "cell_type": "code",
   "execution_count": 9,
   "id": "c386be97",
   "metadata": {
    "execution": {
     "iopub.execute_input": "2023-12-21T03:59:18.836278Z",
     "iopub.status.busy": "2023-12-21T03:59:18.835719Z",
     "iopub.status.idle": "2023-12-21T05:16:41.938178Z",
     "shell.execute_reply": "2023-12-21T05:16:41.937275Z"
    },
    "papermill": {
     "duration": 4643.154071,
     "end_time": "2023-12-21T05:16:41.940837",
     "exception": false,
     "start_time": "2023-12-21T03:59:18.786766",
     "status": "completed"
    },
    "tags": []
   },
   "outputs": [
    {
     "name": "stdout",
     "output_type": "stream",
     "text": [
      "Epoch 1/10\n",
      "56/56 [==============================] - 461s 8s/step - loss: 8.1672 - accuracy: 0.7189 - val_loss: 0.4575 - val_accuracy: 0.8635\n",
      "Epoch 2/10\n",
      "56/56 [==============================] - 461s 8s/step - loss: 0.4913 - accuracy: 0.8617 - val_loss: 0.2923 - val_accuracy: 0.8778\n",
      "Epoch 3/10\n",
      "56/56 [==============================] - 464s 8s/step - loss: 0.3261 - accuracy: 0.8673 - val_loss: 0.2886 - val_accuracy: 0.8758\n",
      "Epoch 4/10\n",
      "56/56 [==============================] - 462s 8s/step - loss: 0.2863 - accuracy: 0.8862 - val_loss: 0.2336 - val_accuracy: 0.9022\n",
      "Epoch 5/10\n",
      "56/56 [==============================] - 463s 8s/step - loss: 0.2356 - accuracy: 0.8959 - val_loss: 0.2875 - val_accuracy: 0.9084\n",
      "Epoch 6/10\n",
      "56/56 [==============================] - 462s 8s/step - loss: 0.2340 - accuracy: 0.9051 - val_loss: 0.2136 - val_accuracy: 0.9246\n",
      "Epoch 7/10\n",
      "56/56 [==============================] - 463s 8s/step - loss: 0.2046 - accuracy: 0.9143 - val_loss: 0.2162 - val_accuracy: 0.9185\n",
      "Epoch 8/10\n",
      "56/56 [==============================] - 461s 8s/step - loss: 0.1514 - accuracy: 0.9413 - val_loss: 0.1914 - val_accuracy: 0.9328\n",
      "Epoch 9/10\n",
      "56/56 [==============================] - 462s 8s/step - loss: 0.1662 - accuracy: 0.9357 - val_loss: 0.2589 - val_accuracy: 0.9226\n",
      "Epoch 10/10\n",
      "56/56 [==============================] - 461s 8s/step - loss: 0.1706 - accuracy: 0.9311 - val_loss: 0.2172 - val_accuracy: 0.9369\n"
     ]
    },
    {
     "data": {
      "text/plain": [
       "<keras.callbacks.History at 0x7ffb040e0610>"
      ]
     },
     "execution_count": 9,
     "metadata": {},
     "output_type": "execute_result"
    }
   ],
   "source": [
    "# Train the model\n",
    "model.fit(np.array(train_images), train_labels_one_hot, epochs=10, batch_size=35, validation_split=0.2)"
   ]
  },
  {
   "cell_type": "code",
   "execution_count": null,
   "id": "a16e67e1",
   "metadata": {
    "papermill": {
     "duration": 0.080327,
     "end_time": "2023-12-21T05:16:42.101553",
     "exception": false,
     "start_time": "2023-12-21T05:16:42.021226",
     "status": "completed"
    },
    "tags": []
   },
   "outputs": [],
   "source": []
  },
  {
   "cell_type": "code",
   "execution_count": 10,
   "id": "3c10ad7a",
   "metadata": {
    "execution": {
     "iopub.execute_input": "2023-12-21T05:16:42.263064Z",
     "iopub.status.busy": "2023-12-21T05:16:42.262370Z",
     "iopub.status.idle": "2023-12-21T05:19:04.277703Z",
     "shell.execute_reply": "2023-12-21T05:19:04.276744Z"
    },
    "papermill": {
     "duration": 142.177733,
     "end_time": "2023-12-21T05:19:04.359979",
     "exception": false,
     "start_time": "2023-12-21T05:16:42.182246",
     "status": "completed"
    },
    "tags": []
   },
   "outputs": [
    {
     "name": "stdout",
     "output_type": "stream",
     "text": [
      "20/20 [==============================] - 115s 6s/step - loss: 0.2550 - accuracy: 0.9184\n",
      "Test Loss: 0.2550, Test Accuracy: 0.9184\n"
     ]
    }
   ],
   "source": [
    "test_loss, test_accuracy = model.evaluate(np.array(test_images), test_labels_one_hot)\n",
    "print(f'Test Loss: {test_loss:.4f}, Test Accuracy: {test_accuracy:.4f}')"
   ]
  },
  {
   "cell_type": "code",
   "execution_count": null,
   "id": "b6897719",
   "metadata": {
    "papermill": {
     "duration": 0.082818,
     "end_time": "2023-12-21T05:19:04.526338",
     "exception": false,
     "start_time": "2023-12-21T05:19:04.443520",
     "status": "completed"
    },
    "tags": []
   },
   "outputs": [],
   "source": [
    "\n"
   ]
  },
  {
   "cell_type": "code",
   "execution_count": 11,
   "id": "40f4b532",
   "metadata": {
    "execution": {
     "iopub.execute_input": "2023-12-21T05:19:04.769562Z",
     "iopub.status.busy": "2023-12-21T05:19:04.769178Z",
     "iopub.status.idle": "2023-12-21T05:19:05.375181Z",
     "shell.execute_reply": "2023-12-21T05:19:05.374110Z"
    },
    "papermill": {
     "duration": 0.692906,
     "end_time": "2023-12-21T05:19:05.377717",
     "exception": false,
     "start_time": "2023-12-21T05:19:04.684811",
     "status": "completed"
    },
    "tags": []
   },
   "outputs": [],
   "source": [
    "\n",
    "model.save('trained_model.h5')\n",
    "loaded_model = load_model('trained_model.h5')"
   ]
  },
  {
   "cell_type": "code",
   "execution_count": null,
   "id": "d88718d1",
   "metadata": {
    "papermill": {
     "duration": 0.080966,
     "end_time": "2023-12-21T05:19:05.539322",
     "exception": false,
     "start_time": "2023-12-21T05:19:05.458356",
     "status": "completed"
    },
    "tags": []
   },
   "outputs": [],
   "source": []
  },
  {
   "cell_type": "code",
   "execution_count": null,
   "id": "e2f11838",
   "metadata": {
    "papermill": {
     "duration": 0.080195,
     "end_time": "2023-12-21T05:19:05.699647",
     "exception": false,
     "start_time": "2023-12-21T05:19:05.619452",
     "status": "completed"
    },
    "tags": []
   },
   "outputs": [],
   "source": []
  }
 ],
 "metadata": {
  "kaggle": {
   "accelerator": "none",
   "dataSources": [
    {
     "datasetId": 1454010,
     "sourceId": 2404385,
     "sourceType": "datasetVersion"
    }
   ],
   "dockerImageVersionId": 30527,
   "isGpuEnabled": false,
   "isInternetEnabled": true,
   "language": "python",
   "sourceType": "notebook"
  },
  "kernelspec": {
   "display_name": "Python 3",
   "language": "python",
   "name": "python3"
  },
  "language_info": {
   "codemirror_mode": {
    "name": "ipython",
    "version": 3
   },
   "file_extension": ".py",
   "mimetype": "text/x-python",
   "name": "python",
   "nbconvert_exporter": "python",
   "pygments_lexer": "ipython3",
   "version": "3.10.12"
  },
  "papermill": {
   "default_parameters": {},
   "duration": 4894.29918,
   "end_time": "2023-12-21T05:19:08.880140",
   "environment_variables": {},
   "exception": null,
   "input_path": "__notebook__.ipynb",
   "output_path": "__notebook__.ipynb",
   "parameters": {},
   "start_time": "2023-12-21T03:57:34.580960",
   "version": "2.4.0"
  }
 },
 "nbformat": 4,
 "nbformat_minor": 5
}
